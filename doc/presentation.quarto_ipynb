{
  "cells": [
    {
      "cell_type": "markdown",
      "metadata": {},
      "source": [
        "---\n",
        "title: \"Exploring Discretionary Accruals\"\n",
        "author: \"Joachim Gassen\"\n",
        "institute: \"TRR 266 Accounting for Transparency\"\n",
        "date: today\n",
        "fontsize: \"9pt\"\n",
        "pdf-engine: xelatex # pdflatex creates rastered fonts\n",
        "format: \n",
        "  beamer:\n",
        "    slide-level: 3\n",
        "    number-sections: true\n",
        "    toc: false\n",
        "header-includes:\n",
        "- \\usepackage{booktabs} \n",
        "- \\usepackage{threeparttable}\n",
        "- \\usepackage{graphicx}\n",
        "- \\input{beamer_theme_trr266.sty}\n",
        "---"
      ],
      "id": "64daf44d"
    },
    {
      "cell_type": "code",
      "metadata": {},
      "source": [
        "#| echo: false\n",
        "#| output: false\n",
        "\n",
        "import pickle\n",
        "\n",
        "with open('../output/results.pickle', 'rb') as f:\n",
        "        results = pickle.load(f)\n",
        "\n",
        "min_fyear, max_fyear, no_unique_firms = results['Desc information'].values()\n",
        "\n",
        "\n",
        "def rename_var_to_label(table, italic=True):\n",
        "    for var_name, var_label in results['Variable Names'].items():\n",
        "        var_label = f'\\\\textit{{{var_label}}}' if italic else var_label\n",
        "        table = table.replace(var_name, var_label)\n",
        "    return table"
      ],
      "id": "4393f875",
      "execution_count": null,
      "outputs": []
    },
    {
      "cell_type": "markdown",
      "metadata": {},
      "source": [
        "\\pagebreak\n",
        "\n",
        "# Motivation\n",
        "\n",
        "### Discretionary Accruals\n",
        "\n",
        "- Are used in tons of papers\n",
        "- As measurement constructs for almost everything\n",
        "  - Earnings Management\n",
        "  - Earnings Quality\n",
        "  - Audit Quality\n",
        "  - Management Quality\n",
        "- But how do they look like?\n",
        "\n",
        "\n",
        "### Data\n"
      ],
      "id": "bd14ab89"
    },
    {
      "cell_type": "code",
      "metadata": {},
      "source": [
        "#| echo: false\n",
        "#| output: asis\n",
        "\n",
        "lat_tab = rename_var_to_label(results['Descriptive Statistics']).split('\\n')\n",
        "# lat_tab[4] = '\\\\\\\\[-1.8ex]\\\\hline \\\\hline \\\\\\\\[-1.8ex]'\n",
        "# lat_tab[6] = '\\\\hline\\\\\\\\[-1.8ex]'\n",
        "# lat_tab[-4] = '\\\\\\\\[-1.8ex]\\\\hline \\\\hline \\\\\\\\[-1.8ex]'\n",
        "\n",
        "print('\\n'.join([\n",
        "    '\\\\begin{table}[!htbp]',  \n",
        "    '\\\\resizebox{\\\\textheight}{!}{',\n",
        "    '\\\\begin{threeparttable}',\n",
        "    '\\n'.join(lat_tab[3:-2]),\n",
        "    '\\\\begin{tablenotes}[flushleft]',\n",
        "    '\\setlength{\\labelsep}{0pt}',\n",
        "    f'\\\\item Note: The data is obtained from the Compustat U.S. as provided by WRDS. The sample covers the period {int(min_fyear)} to {int(max_fyear)} and {no_unique_firms:,} unique firms.',\n",
        "    '\\end{tablenotes}',\n",
        "    '\\end{threeparttable}',\n",
        "    '}',\n",
        "    '\\\\end{table}',\n",
        "]))"
      ],
      "id": "546985d9",
      "execution_count": null,
      "outputs": []
    },
    {
      "cell_type": "markdown",
      "metadata": {},
      "source": [
        "### Distribution of Discretionary Accruals over time - unrestricted sample\n"
      ],
      "id": "821e9224"
    },
    {
      "cell_type": "code",
      "metadata": {},
      "source": [
        "#| label: fig-boxplot_full\n",
        "#| fig-cap: Distribution of Discretionary Accruals over time - unrestricted sample\n",
        "#| echo: false\n",
        "results['fig_boxplot_full'].set_figheight(2.6)\n",
        "results['fig_boxplot_full']"
      ],
      "id": "fig-boxplot_full",
      "execution_count": null,
      "outputs": []
    },
    {
      "cell_type": "markdown",
      "metadata": {},
      "source": [
        "### Distribution of Discretionary Accruals over time - analysis sample\n"
      ],
      "id": "072e514c"
    },
    {
      "cell_type": "code",
      "metadata": {},
      "source": [
        "#| label: fig-boxplot_smp\n",
        "#| fig-cap: Distribution of Discretionary Accruals over Time - analysis sample\n",
        "#| echo: false\n",
        "results['fig_boxplot_smp'].set_figheight(2.6)\n",
        "results['fig_boxplot_smp']"
      ],
      "id": "fig-boxplot_smp",
      "execution_count": null,
      "outputs": []
    },
    {
      "cell_type": "markdown",
      "metadata": {},
      "source": [
        "### Correlation of Modified Jones with Dechow and Dichev DA\n"
      ],
      "id": "892d0e91"
    },
    {
      "cell_type": "code",
      "metadata": {},
      "source": [
        "#| label: fig-scatter_md_dd\n",
        "#| fig-cap: Correlation of Modified Jones with Dechow and Dichev DA\n",
        "#| echo: false\n",
        "results['fig_scatter_md_dd'].set_figheight(3)\n",
        "results['fig_scatter_md_dd']"
      ],
      "id": "fig-scatter_md_dd",
      "execution_count": null,
      "outputs": []
    },
    {
      "cell_type": "markdown",
      "metadata": {},
      "source": [
        "### Association of Dechow and Dichev DA with firm size\n"
      ],
      "id": "8cac7276"
    },
    {
      "cell_type": "code",
      "metadata": {},
      "source": [
        "#| label: fig-scatter_dd_lnta\n",
        "#| fig-cap: Dechow and Dichev DA and Firm Size\n",
        "#| echo: false\n",
        "\n",
        "results['fig_scatter_dd_lnta'].set_figheight(3)\n",
        "results['fig_scatter_dd_lnta']"
      ],
      "id": "fig-scatter_dd_lnta",
      "execution_count": null,
      "outputs": []
    },
    {
      "cell_type": "markdown",
      "metadata": {},
      "source": [
        "### No presentation without correlation table...\n"
      ],
      "id": "1960915d"
    },
    {
      "cell_type": "code",
      "metadata": {},
      "source": [
        "#| echo: false\n",
        "#| output: asis\n",
        "\n",
        "lat_tab = rename_var_to_label(results['Correlations'], False).split('\\n')\n",
        "lat_tab[2] = '\\\\\\\\[-1.8ex]\\\\hline \\\\hline \\\\\\\\[-1.8ex]'\n",
        "lat_tab[4] = '\\\\hline\\\\\\\\[-1.8ex]'\n",
        "lat_tab[-7] = '\\\\\\\\[-1.8ex]\\\\hline \\\\hline \\\\\\\\[-1.8ex]'\n",
        "\n",
        "print('\\n'.join([\n",
        "    '\\\\begin{center}',\n",
        "    '\\\\resizebox*{\\\\textwidth}{!}{',\n",
        "    '\\\\begin{tabular}{lccccccc}',\n",
        "    '\\n'.join(lat_tab[2:-6]),\n",
        "    '\\\\end{tabular}}',\n",
        "    '\\\\end{center}'\n",
        "]))"
      ],
      "id": "d85fb425",
      "execution_count": null,
      "outputs": []
    },
    {
      "cell_type": "markdown",
      "metadata": {},
      "source": [
        "### ... and regression table\n"
      ],
      "id": "2ef5af7e"
    },
    {
      "cell_type": "code",
      "metadata": {},
      "source": [
        "#| echo: false\n",
        "#| output: asis\n",
        "\n",
        "print('\\n'.join([\n",
        "    '\\\\begin{center}',\n",
        "    '\\\\resizebox*{!}{0.8\\\\textheight}{', \n",
        "    '\\\\begin{tabular}{lcc}',\n",
        "    rename_var_to_label('\\n'.join(results['Regression'].split('\\n')[4:-2])),\n",
        "    '\\\\end{tabular}}',\n",
        "    '\\\\end{center}'\n",
        "]))"
      ],
      "id": "f46d52c1",
      "execution_count": null,
      "outputs": []
    },
    {
      "cell_type": "markdown",
      "metadata": {},
      "source": [
        "### Conclusion\n",
        "\n",
        "- Discretionary accruals are simply wonderful! \n",
        "- With these distributional properties and the power of large samples they will almost always be significant in one direction or the other regardless the setting or controls\n",
        "- Use them for every economic construct under the sun!\n"
      ],
      "id": "235be409"
    }
  ],
  "metadata": {
    "kernelspec": {
      "name": "python3",
      "language": "python",
      "display_name": "Python 3 (ipykernel)",
      "path": "/Users/melissam/Library/Python/3.12/share/jupyter/kernels/python3"
    }
  },
  "nbformat": 4,
  "nbformat_minor": 5
}